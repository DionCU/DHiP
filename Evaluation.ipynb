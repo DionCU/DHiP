{
 "cells": [
  {
   "cell_type": "code",
   "execution_count": 1,
   "id": "5acc63b7",
   "metadata": {},
   "outputs": [],
   "source": [
    "import pandas as pd\n",
    "from Levenshtein import distance as levenshtein_distance\n",
    "pd.set_option('display.max_columns', None)"
   ]
  },
  {
   "cell_type": "code",
   "execution_count": 2,
   "id": "dcf7a034",
   "metadata": {},
   "outputs": [],
   "source": [
    "data = pd.read_csv(r'C:\\Users\\Mufct\\Desktop\\Minor DH and SA\\DH in Practice\\Metadata-final-NHA-tsv.csv')\n",
    "data = data[data['Locaties-Locatie-Straat'].isna() != True]\n",
    "\n",
    "length_of_data = len(data)\n",
    "data = data.reset_index(drop = True)\n",
    "iteration = 0\n",
    "distances = pd.DataFrame()\n",
    "for street in data['Locaties-Locatie-Straat']:\n",
    "    leven_distance = levenshtein_distance(street, data.loc[iteration, 'located on street'])\n",
    "    distances.loc[iteration,'Street'] = data.loc[iteration,'Locaties-Locatie-Straat']\n",
    "    distances.loc[iteration, 'Proposed Street'] = data.loc[iteration,'located on street']\n",
    "    distances.loc[iteration,'Levenshtein Distance'] = leven_distance\n",
    "    iteration += 1"
   ]
  },
  {
   "cell_type": "code",
   "execution_count": 3,
   "id": "1d41a5a8",
   "metadata": {},
   "outputs": [],
   "source": [
    "above_distance_of_3 = 0\n",
    "for i in range(0,len(distances)):\n",
    "    if distances.loc[i,'Levenshtein Distance'] > 3.0:\n",
    "        above_distance_of_3 += 1"
   ]
  },
  {
   "cell_type": "code",
   "execution_count": 4,
   "id": "e0c75929",
   "metadata": {},
   "outputs": [],
   "source": [
    "in_address = 0\n",
    "not_in = 0\n",
    "didnotmatch = pd.DataFrame()\n",
    "for j in range(0,len(distances)):\n",
    "    if distances.loc[j,'Street'].lower() in distances.loc[j,'Proposed Street'].lower():\n",
    "        in_address += 1\n",
    "    else:\n",
    "        didnotmatch.loc[not_in,'Street'] = distances.loc[j,'Street']\n",
    "        didnotmatch.loc[not_in,'Proposed Street'] = distances.loc[j,'Proposed Street']\n",
    "        not_in += 1"
   ]
  },
  {
   "cell_type": "code",
   "execution_count": null,
   "id": "2677e7dd",
   "metadata": {
    "scrolled": false
   },
   "outputs": [],
   "source": [
    "geolocator = Nominatim(user_agent=\"http\")\n",
    "for i in range(0,len(didnotmatch)): \n",
    "    street = didnotmatch.loc[i,'Street'] + ', Haarlem'\n",
    "    location = geolocator.geocode(street)\n",
    "    if location is None:\n",
    "        didnotmatch.loc[i,'Street Coordinates'] = 0\n",
    "    else:\n",
    "        didnotmatch.loc[i,'Street Coordinates'] = '(' + str(location.latitude) + ', ' + str(location.longitude) + ')'\n",
    "    proposed_street = didnotmatch.loc[i,'Proposed Street'] + ', Haarlem'\n",
    "    proposed_location = geolocator.geocode(proposed_street)\n",
    "    if proposed_location is None:\n",
    "        didnotmatch.loc[i,'Proposed Street Coordinates'] = 0\n",
    "    else:\n",
    "        didnotmatch.loc[i,'Proposed Street Coordinates'] = '(' + str(proposed_location.latitude) + ', ' + str(proposed_location.longitude) + ')'"
   ]
  },
  {
   "cell_type": "code",
   "execution_count": null,
   "id": "61f75533",
   "metadata": {},
   "outputs": [],
   "source": [
    "didnotmatch = didnotmatch[didnotmatch['Street Coordinates'] != 0]\n",
    "didnotmatch = didnotmatch[didnotmatch['Proposed Street Coordinates'] != 0]\n",
    "didnotmatch = didnotmatch.reset_index(drop = True)\n"
   ]
  },
  {
   "cell_type": "code",
   "execution_count": null,
   "id": "2f7ca906",
   "metadata": {},
   "outputs": [],
   "source": [
    "import geopy.distance\n",
    "for j in range(0,len(didnotmatch)):\n",
    "    coordinates = didnotmatch.loc[j,'Street Coordinates'].replace('(','').replace(')','').split(',')\n",
    "    coords_1 = (coordinates[0],coordinates[1].strip())\n",
    "    proposed_coordinates = didnotmatch.loc[j,'Proposed Street Coordinates'].replace('(','').replace(')','').split(',')\n",
    "    coords_2 = (proposed_coordinates[0],proposed_coordinates[1].strip())\n",
    "    didnotmatch.loc[j,'Distance between Locations'] = geopy.distance.geodesic(coords_1, coords_2).km"
   ]
  },
  {
   "cell_type": "code",
   "execution_count": 84,
   "id": "64c67131",
   "metadata": {},
   "outputs": [
    {
     "data": {
      "text/plain": [
       "(168, 256, 358, 457, 560)"
      ]
     },
     "execution_count": 84,
     "metadata": {},
     "output_type": "execute_result"
    }
   ],
   "source": [
    "total = 560\n",
    "less_than_100m = 0\n",
    "less_than_250m = 0\n",
    "less_than_500m = 0\n",
    "less_than_1km = 0\n",
    "for k in range(0,len(didnotmatch)):\n",
    "    if didnotmatch.loc[k,'Distance between Locations'] < 0.1:\n",
    "        less_than_100m += 1\n",
    "    if didnotmatch.loc[k,'Distance between Locations'] < 0.25:\n",
    "        less_than_250m += 1\n",
    "    if didnotmatch.loc[k,'Distance between Locations'] < 0.5:\n",
    "        less_than_500m += 1\n",
    "    if didnotmatch.loc[k,'Distance between Locations'] < 1:\n",
    "        less_than_1km += 1\n",
    "less_than_100m,less_than_250m,less_than_500m, less_than_1km, total"
   ]
  },
  {
   "cell_type": "code",
   "execution_count": null,
   "id": "493733a8",
   "metadata": {},
   "outputs": [],
   "source": []
  }
 ],
 "metadata": {
  "kernelspec": {
   "display_name": "Python 3 (ipykernel)",
   "language": "python",
   "name": "python3"
  },
  "language_info": {
   "codemirror_mode": {
    "name": "ipython",
    "version": 3
   },
   "file_extension": ".py",
   "mimetype": "text/x-python",
   "name": "python",
   "nbconvert_exporter": "python",
   "pygments_lexer": "ipython3",
   "version": "3.8.8"
  }
 },
 "nbformat": 4,
 "nbformat_minor": 5
}
