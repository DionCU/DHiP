{
 "cells": [
  {
   "cell_type": "code",
   "execution_count": null,
   "id": "b9029b84-7d55-45b0-9c6f-ce797a86701c",
   "metadata": {},
   "outputs": [],
   "source": [
    "import spacy\n",
    "nlp = spacy.load('nl_core_news_sm')\n",
    "from spacy import displacy\n",
    "from spacy.pipeline import EntityRuler"
   ]
  },
  {
   "cell_type": "code",
   "execution_count": null,
   "id": "851216cd-fa47-400b-8d67-a7d0fea5599c",
   "metadata": {},
   "outputs": [],
   "source": [
    "import pandas as pd\n",
    "df_rijks = pd.read_excel('rksmtn_copy.xlsx', index_col=None, header=None)\n",
    "df_rijks.columns = ['type', 'label']\n",
    "patterns = []\n",
    "for index, row in df_rijks.iterrows():\n",
    "    patterns.append({\"label\":row['label'], \"pattern\":row['type']})"
   ]
  },
  {
   "cell_type": "markdown",
   "id": "363d62fd-fdcb-4b6f-9cc1-c9a26574ebfd",
   "metadata": {},
   "source": [
    "ruler = nlp.add_pipe(\"entity_ruler\")\n",
    "ruler.add_patterns(patterns)"
   ]
  },
  {
   "cell_type": "code",
   "execution_count": null,
   "id": "ca24aa86-9333-460c-a19a-2c71c87811cc",
   "metadata": {},
   "outputs": [],
   "source": [
    "import csv\n",
    "filename = \"MetadataDeBoer_rks_old.csv\"\n",
    "newfilename = \"MetadataDeBoer20230125_3.csv\"\n",
    "with open(filename, newline='') as file:    \n",
    "    reader = csv.reader(file, delimiter=\";\")\n",
    "    countr = 0\n",
    "    count = 0\n",
    "    with open(newfilename, \"w\") as newfile:\n",
    "        header = \"Rijksmonument\\n\"\n",
    "        newfile.write(header)\n",
    "        for row in reader:\n",
    "            desc = row[9]\n",
    "            desc = desc.lower()\n",
    "            doc = nlp(desc)\n",
    "            ent = doc.ents\n",
    "            for entity in ent:\n",
    "                if entity.label_ == \"RIJKS\":\n",
    "                    #print(entity, entity.label_)\n",
    "                    #print(desc)\n",
    "                    countr += 1\n",
    "                    line = f\"{entity},\"\n",
    "                    newfile.write(line)\n",
    "            line = \"\\n\"\n",
    "            newfile.write(line)\n",
    "            count += 1\n",
    "            if count % 1000 == 0:\n",
    "                print(count)\n",
    "        print(countr)"
   ]
  }
 ],
 "metadata": {
  "kernelspec": {
   "display_name": "Python 3 (ipykernel)",
   "language": "python",
   "name": "python3"
  },
  "language_info": {
   "codemirror_mode": {
    "name": "ipython",
    "version": 3
   },
   "file_extension": ".py",
   "mimetype": "text/x-python",
   "name": "python",
   "nbconvert_exporter": "python",
   "pygments_lexer": "ipython3",
   "version": "3.9.12"
  }
 },
 "nbformat": 4,
 "nbformat_minor": 5
}
